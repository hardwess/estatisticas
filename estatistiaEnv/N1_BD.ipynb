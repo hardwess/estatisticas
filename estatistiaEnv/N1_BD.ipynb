{
 "cells": [
  {
   "cell_type": "code",
   "execution_count": 133,
   "metadata": {},
   "outputs": [],
   "source": [
    "import pandas as pd #Biblioteca para analise de dados\n",
    "import pyodbc as pyo #Biblioteca para acessar o banco de dados\n",
    "import seaborn as sns #Biblioteca Grafica\n",
    "import matplotlib.pyplot as plt #Biblioteca Grafica"
   ]
  },
  {
   "cell_type": "code",
   "execution_count": 134,
   "metadata": {},
   "outputs": [],
   "source": [
    "plt.rcParams['figure.figsize'] = (15,11)"
   ]
  },
  {
   "cell_type": "code",
   "execution_count": 135,
   "metadata": {},
   "outputs": [],
   "source": [
    "#Criar a string para o pyodbc acessar o banco de dados\n",
    "\n",
    "#Driver que será utilizado no acesso:\n",
    "driver = '{Microsoft Access Driver (*.mdb, *.accdb)}'\n",
    "\n",
    "#Caminho até o banco de dados:\n",
    "caminho = r\"C:\\estatisticas\\estatistiaEnv\\Database11.accdb\"\n",
    "\n",
    "cnn = pyo.connect(driver = driver, dbq = caminho) #String de conexao ao banco de dados"
   ]
  },
  {
   "cell_type": "code",
   "execution_count": 136,
   "metadata": {},
   "outputs": [
    {
     "name": "stderr",
     "output_type": "stream",
     "text": [
      "C:\\Users\\weslley.pereira\\AppData\\Local\\Temp\\ipykernel_68440\\727245499.py:1: UserWarning: pandas only supports SQLAlchemy connectable (engine/connection) or database string URI or sqlite3 DBAPI2 connection. Other DBAPI2 objects are not tested. Please consider using SQLAlchemy.\n",
      "  df = pd.read_sql('select * from Precos', cnn) #Abre o banco de dados utilizando o Pandas como leitor\n"
     ]
    }
   ],
   "source": [
    "df = pd.read_sql('select * from Precos', cnn) #Abre o banco de dados utilizando o Pandas como leitor\n",
    "dados = df.copy() #Cria uma cópia de segurança dos dados.count\n",
    "cnn.close() #Encerra a comunicação com o arquivo .accdb"
   ]
  },
  {
   "cell_type": "code",
   "execution_count": 137,
   "metadata": {},
   "outputs": [
    {
     "data": {
      "text/html": [
       "<div>\n",
       "<style scoped>\n",
       "    .dataframe tbody tr th:only-of-type {\n",
       "        vertical-align: middle;\n",
       "    }\n",
       "\n",
       "    .dataframe tbody tr th {\n",
       "        vertical-align: top;\n",
       "    }\n",
       "\n",
       "    .dataframe thead th {\n",
       "        text-align: right;\n",
       "    }\n",
       "</style>\n",
       "<table border=\"1\" class=\"dataframe\">\n",
       "  <thead>\n",
       "    <tr style=\"text-align: right;\">\n",
       "      <th></th>\n",
       "      <th>Região-Sigla</th>\n",
       "      <th>Estado-Sigla</th>\n",
       "      <th>Municipio</th>\n",
       "      <th>Revenda</th>\n",
       "      <th>CNPJ da revenda</th>\n",
       "      <th>Nome da Rua</th>\n",
       "      <th>Número da Rua</th>\n",
       "      <th>Complemento</th>\n",
       "      <th>Bairro</th>\n",
       "      <th>Cep</th>\n",
       "      <th>Produto</th>\n",
       "      <th>Data da Coleta</th>\n",
       "      <th>Valor de Venda</th>\n",
       "      <th>Valor de Compra</th>\n",
       "      <th>Unidade de Medida</th>\n",
       "      <th>Bandeira</th>\n",
       "    </tr>\n",
       "  </thead>\n",
       "  <tbody>\n",
       "  </tbody>\n",
       "</table>\n",
       "</div>"
      ],
      "text/plain": [
       "Empty DataFrame\n",
       "Columns: [Região-Sigla, Estado-Sigla, Municipio, Revenda, CNPJ da revenda, Nome da Rua, Número da Rua, Complemento, Bairro, Cep, Produto, Data da Coleta, Valor de Venda, Valor de Compra, Unidade de Medida, Bandeira]\n",
       "Index: []"
      ]
     },
     "execution_count": 137,
     "metadata": {},
     "output_type": "execute_result"
    }
   ],
   "source": [
    "dados.head()"
   ]
  },
  {
   "cell_type": "code",
   "execution_count": 138,
   "metadata": {},
   "outputs": [],
   "source": [
    "RegiaoS = pd.DataFrame(dados.loc[lambda dados: dados['Região-Sigla'] == 'S', :])"
   ]
  },
  {
   "cell_type": "code",
   "execution_count": 139,
   "metadata": {},
   "outputs": [],
   "source": [
    "MG = pd.DataFrame(dados.loc[lambda dados: dados['Estado-Sigla'] == 'MG', :])\n",
    "MG = MG.drop('Valor de Compra', axis=1)"
   ]
  },
  {
   "cell_type": "code",
   "execution_count": 140,
   "metadata": {},
   "outputs": [
    {
     "data": {
      "text/plain": [
       "Região-Sigla         0\n",
       "Estado-Sigla         0\n",
       "Municipio            0\n",
       "Revenda              0\n",
       "CNPJ da revenda      0\n",
       "Nome da Rua          0\n",
       "Número da Rua        0\n",
       "Complemento          0\n",
       "Bairro               0\n",
       "Cep                  0\n",
       "Produto              0\n",
       "Data da Coleta       0\n",
       "Valor de Venda       0\n",
       "Unidade de Medida    0\n",
       "Bandeira             0\n",
       "dtype: int64"
      ]
     },
     "execution_count": 140,
     "metadata": {},
     "output_type": "execute_result"
    }
   ],
   "source": [
    "MG.isna().sum()"
   ]
  },
  {
   "cell_type": "code",
   "execution_count": 141,
   "metadata": {},
   "outputs": [],
   "source": [
    "MG['Número da Rua'] = MG['Número da Rua'].fillna(0)\n",
    "MG['Complemento'] = MG['Complemento'].fillna(0)\n",
    "MG['Bairro'] = MG['Bairro'].fillna(0)\n",
    "MG['Unidade de Medida'] = MG['Unidade de Medida'].fillna(0)\n",
    "MG['Bandeira'] = MG['Bandeira'].fillna(0)"
   ]
  },
  {
   "cell_type": "code",
   "execution_count": 142,
   "metadata": {},
   "outputs": [],
   "source": [
    "MG.dropna(inplace=True)"
   ]
  },
  {
   "cell_type": "code",
   "execution_count": 143,
   "metadata": {},
   "outputs": [
    {
     "data": {
      "text/plain": [
       "Região-Sigla         0\n",
       "Estado-Sigla         0\n",
       "Municipio            0\n",
       "Revenda              0\n",
       "CNPJ da revenda      0\n",
       "Nome da Rua          0\n",
       "Número da Rua        0\n",
       "Complemento          0\n",
       "Bairro               0\n",
       "Cep                  0\n",
       "Produto              0\n",
       "Data da Coleta       0\n",
       "Valor de Venda       0\n",
       "Unidade de Medida    0\n",
       "Bandeira             0\n",
       "dtype: int64"
      ]
     },
     "execution_count": 143,
     "metadata": {},
     "output_type": "execute_result"
    }
   ],
   "source": [
    "MG.isna().sum()"
   ]
  }
 ],
 "metadata": {
  "kernelspec": {
   "display_name": "estatistiaEnv",
   "language": "python",
   "name": "python3"
  },
  "language_info": {
   "codemirror_mode": {
    "name": "ipython",
    "version": 3
   },
   "file_extension": ".py",
   "mimetype": "text/x-python",
   "name": "python",
   "nbconvert_exporter": "python",
   "pygments_lexer": "ipython3",
   "version": "3.12.4"
  }
 },
 "nbformat": 4,
 "nbformat_minor": 2
}

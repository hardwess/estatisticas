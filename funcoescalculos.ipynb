{
 "cells": [
  {
   "cell_type": "code",
   "execution_count": 64,
   "metadata": {},
   "outputs": [],
   "source": [
    "import pandas as pd"
   ]
  },
  {
   "cell_type": "code",
   "execution_count": 65,
   "metadata": {},
   "outputs": [],
   "source": [
    "dataframe = pd.read_csv ('Industria.csv')"
   ]
  },
  {
   "cell_type": "code",
   "execution_count": 66,
   "metadata": {},
   "outputs": [
    {
     "name": "stdout",
     "output_type": "stream",
     "text": [
      "Moda:\n",
      " 0    6.0\n",
      "1    9.0\n",
      "Name: Politica, dtype: float64 \n",
      "\n",
      "variância: 2.794166666666667 \n",
      "\n",
      "desvio padrão: 1.6715761025650813\n"
     ]
    }
   ],
   "source": [
    "#dataframe.info() #Retorna as colunas e informa se tem dados nulos ou não e os tipos dos dados em cada coluna\n",
    "#dataframe.shape #Retorna a quantidade de linhas e colunas\n",
    "#dataframe.describe() #Retorna contagem de cada coluna, média, desvio padrão, minimo, máximo, Q1, Q2 e Q3\n",
    "#dataframe.head() #Retorna as primeiras linhas de acordo com a quantidade passada por parâmetro (sem parametros são apresentadas as 5 primeiras linhas) - dataframe.head(1) <---\n",
    "#dataframe.tail() #Retorna as ultimas linhas de acordo com a quantidade passada por parâmetro (sem parametros são apresentadas as 5 ultimas linhas) - dataframe.head(1) <---\n",
    "\n",
    "#dataframe.Politica.mean() #Retorna a média\n",
    "#dataframe['Politica'].median() #Retorna a mediana\n",
    "\n",
    "print('Moda:\\n', dataframe['Politica'].mode(), '\\n') #Retorna a moda\n",
    "print('variância:',dataframe['Politica'].var(), '\\n') #Retorna a variância\n",
    "print('desvio padrão:',dataframe['Politica'].std()) #Retorna o desvio padrão\n",
    "\n",
    "#dataframe.Politica.quantile([0.25, 0.5, 0.75]) #Retorna os Quartis de acordo com os parâmetros passados a função\n",
    "\n",
    "\n"
   ]
  }
 ],
 "metadata": {
  "kernelspec": {
   "display_name": "estatistiaEnv",
   "language": "python",
   "name": "python3"
  },
  "language_info": {
   "codemirror_mode": {
    "name": "ipython",
    "version": 3
   },
   "file_extension": ".py",
   "mimetype": "text/x-python",
   "name": "python",
   "nbconvert_exporter": "python",
   "pygments_lexer": "ipython3",
   "version": "3.12.4"
  }
 },
 "nbformat": 4,
 "nbformat_minor": 2
}

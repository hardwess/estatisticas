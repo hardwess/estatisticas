{
 "cells": [
  {
   "cell_type": "code",
   "execution_count": 2,
   "metadata": {},
   "outputs": [],
   "source": [
    "import pandas as pd\n",
    "import seaborn as sns"
   ]
  },
  {
   "cell_type": "code",
   "execution_count": null,
   "metadata": {},
   "outputs": [],
   "source": [
    "#Define o nome das colunas, pois os dados não contém (baseado nos atributos do site da UCI)\n",
    "cabecalho = [\"symboling\", \"normalized_losses\", \"make\", \"fuel_type\", \"aspiration\", \n",
    "             \"num_doors\", \"body_style\", \"drive_wheels\", \"engine_location\", \"wheel_base\", \n",
    "             \"lenght\", \"width\", \"height\", \"curb_weight\", \"engine_type\", \"num_cylinders\", \"engine_size\", \n",
    "             \"fuel_system\", \"bore\", \"stroke\", \"compression_ratio\", \"horsepower\", \"peak_rpm\", \"city_mpg\", \n",
    "             \"highway_mpg\", \"price\"]\n",
    "\n",
    "#Ler o arquivo CSV e converte os valores faltantes (? para NaN)\n",
    "df_base_de_dados = pd.read_csv(\"http://mlr.cs.umass.edu/ml/machine-learning-databases/autos/imports-85.data\", header=None, names=cabecalho, na_values=\"?\")\n",
    "\n",
    "#Define a lista das marcas de carro\n",
    "marcas_de_carro = [\"toyota\", \"nissan\", \"honda\", \"mitsubishi\", \"subaru\", \"volkswagen\"]\n",
    "\n",
    "#Cria uma cópia de dados só com 8 marcas de carros famosos\n",
    "df = df_base_de_dados[df_base_de_dados.make.isin(marcas_de_carro)].copy()\n"
   ]
  },
  {
   "cell_type": "code",
   "execution_count": null,
   "metadata": {},
   "outputs": [],
   "source": [
    "pd.crosstab(df.make, df.body_style, normalize=True)\n",
    "\n",
    "#pd.crosstab([df.make, df.num_doors], [df.body_style, df.drive_wheels],\n",
    "#            rownames=['Auto Manufacturer', \"Doors\"],\n",
    "#            colnames=['Body Style', \"Drive Type\"]\n",
    "#            dropna=False)\n",
    "\n",
    "#sns.heatmap(pd.crosstab([df.make, df.num_doors], [df.body_style, df.drive_wheels]).corr(), cmap=\"Blues\", annot=True, cbar=False)"
   ]
  }
 ],
 "metadata": {
  "kernelspec": {
   "display_name": "estatistiaEnv",
   "language": "python",
   "name": "python3"
  },
  "language_info": {
   "codemirror_mode": {
    "name": "ipython",
    "version": 3
   },
   "file_extension": ".py",
   "mimetype": "text/x-python",
   "name": "python",
   "nbconvert_exporter": "python",
   "pygments_lexer": "ipython3",
   "version": "3.12.4"
  }
 },
 "nbformat": 4,
 "nbformat_minor": 2
}

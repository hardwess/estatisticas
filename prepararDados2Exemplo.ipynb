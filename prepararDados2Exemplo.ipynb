{
 "cells": [
  {
   "cell_type": "code",
   "execution_count": 3,
   "metadata": {},
   "outputs": [],
   "source": [
    "# Exemplo 2 – Seleção da Quantidade de Clusters\n",
    "from sklearn.cluster import KMeans\n",
    "import matplotlib.pyplot as pyp\n",
    "from sklearn.metrics.cluster import silhouette_score,                                                                                                                                                                                                                                                                                                                                                                                                            davies_bouldin_score, calinski_harabasz_score"
   ]
  },
  {
   "cell_type": "code",
   "execution_count": null,
   "metadata": {},
   "outputs": [],
   "source": [
    "erros = []\n",
    "indices = [[0, 0, 0]]\n",
    "K_set = range(1, 11)\n",
    "for i in K_set:\n",
    "    kmeans = KMeans(n_clusters = i, random_state = 0)\n",
    "    prevs = kmeans.fit_predict(X)\n",
    "\n",
    "erros.append(kmeans.inertia_)\n",
    "\n",
    "if ( i > 1):\n",
    "    sil = silhouette_score(X, prevs, random_state = 0)\n",
    "    dav = davies_bouldin_score(X, prevs)\n",
    "    cal = calinski_harabasz_score(X, prevs)\n",
    "    indices = indices + [[sil, dav, cal]] "
   ]
  }
 ],
 "metadata": {
  "kernelspec": {
   "display_name": "estatistiaEnv",
   "language": "python",
   "name": "python3"
  },
  "language_info": {
   "codemirror_mode": {
    "name": "ipython",
    "version": 3
   },
   "file_extension": ".py",
   "mimetype": "text/x-python",
   "name": "python",
   "nbconvert_exporter": "python",
   "pygments_lexer": "ipython3",
   "version": "3.12.4"
  }
 },
 "nbformat": 4,
 "nbformat_minor": 2
}
